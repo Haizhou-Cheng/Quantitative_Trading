{
 "cells": [
  {
   "cell_type": "markdown",
   "metadata": {},
   "source": [
    "## 导入库"
   ]
  },
  {
   "cell_type": "markdown",
   "metadata": {},
   "source": [
    "## 1. 数据管理模块"
   ]
  },
  {
   "cell_type": "code",
   "execution_count": 21,
   "metadata": {},
   "outputs": [],
   "source": [
    "import pandas as pd\n",
    "import requests\n",
    "from datetime import datetime\n",
    "\n",
    "class DataManager:\n",
    "    def __init__(self):\n",
    "        self.data_path = \"data/\"\n",
    "        self.license = \"YOUR_FREE_LICENSE\"  # **替换为麦蕊申请的证书**\n",
    "        \n",
    "    def load_data(self, symbol, start_date, end_date):\n",
    "        # **麦蕊API调用示例（历史日线数据）**\n",
    "        url = f\"http://api.mairui.club/hsdayk/{symbol}/{self.license}\"\n",
    "        params = {\n",
    "            \"start\": datetime.strptime(start_date, \"%Y%m%d\").strftime(\"%Y-%m-%d\"),\n",
    "            \"end\": datetime.strptime(end_date, \"%Y%m%d\").strftime(\"%Y-%m-%d\")\n",
    "        }\n",
    "        \n",
    "        # **请求并转换数据格式**\n",
    "        response = requests.get(url, params=params)\n",
    "        raw_data = response.json()['data']\n",
    "        \n",
    "        # **字段映射与类型转换**\n",
    "        df = pd.DataFrame(raw_data)\n",
    "        df = df.rename(columns={\n",
    "            \"date\": \"trade_date\", \n",
    "            \"close\": \"close\",\n",
    "            \"vol\": \"vol\"\n",
    "        })\n",
    "        df['trade_date'] = pd.to_datetime(df['trade_date'])\n",
    "        df = df.sort_values('trade_date')  # 确保时间升序\n",
    "        \n",
    "        # 缓存到本地（保留原有逻辑）\n",
    "        df.to_csv(f\"{self.data_path}{symbol}.csv\", index=False)\n",
    "        return df"
   ]
  },
  {
   "cell_type": "markdown",
   "metadata": {},
   "source": [
    "## 2. 策略开发模块\n",
    "* 信号生成器：技术指标（如均线突破、RSI）\n",
    "* 风险管理：止损/止盈、仓位控制\n",
    "* 交易执行：订单类型（市价单、限价单）"
   ]
  },
  {
   "cell_type": "code",
   "execution_count": 12,
   "metadata": {},
   "outputs": [],
   "source": [
    "class Strategy:\n",
    "    def __init__(self, short_window=5, long_window=20):\n",
    "        self.short_window = short_window\n",
    "        self.long_window = long_window\n",
    "        self.position = 0  # 持仓状态\n",
    "    \n",
    "    def generate_signal(self, data):\n",
    "        data['short_ma'] = data['close'].rolling(self.short_window).mean()\n",
    "        data['long_ma'] = data['close'].rolling(self.long_window).mean()\n",
    "        # 金叉买入，死叉卖出\n",
    "        if data['short_ma'].iloc[-1] > data['long_ma'].iloc[-1]:\n",
    "            return 'BUY'\n",
    "        elif data['short_ma'].iloc[-1] < data['long_ma'].iloc[-1]:\n",
    "            return 'SELL'\n",
    "        else:\n",
    "            return 'HOLD'"
   ]
  },
  {
   "cell_type": "markdown",
   "metadata": {},
   "source": [
    "## 3. 回测引擎模块\n",
    "* 功能：模拟历史交易并评估策略表现\n",
    "* __核心指标__：年化收益率、夏普比率、最大回撤、胜率"
   ]
  },
  {
   "cell_type": "code",
   "execution_count": 13,
   "metadata": {},
   "outputs": [],
   "source": [
    "class Backtester:\n",
    "    def __init__(self, initial_capital=100000):\n",
    "        self.initial_capital = initial_capital\n",
    "        self.portfolio = {'cash': initial_capital, 'shares': 0}\n",
    "    \n",
    "    def run_backtest(self, data, strategy):\n",
    "        returns = []\n",
    "        for i in range(len(data)):\n",
    "            signal = strategy.generate_signal(data.iloc[:i+1])\n",
    "            price = data.iloc[i]['close']\n",
    "            if signal == 'BUY' and self.portfolio['cash'] > 0:\n",
    "                self.portfolio['shares'] = self.portfolio['cash'] // price\n",
    "                self.portfolio['cash'] -= self.portfolio['shares'] * price\n",
    "            elif signal == 'SELL' and self.portfolio['shares'] > 0:\n",
    "                self.portfolio['cash'] += self.portfolio['shares'] * price\n",
    "                self.portfolio['shares'] = 0\n",
    "            # 记录每日净值\n",
    "            total_value = self.portfolio['cash'] + self.portfolio['shares'] * price\n",
    "            returns.append(total_value / self.initial_capital - 1)\n",
    "        return returns"
   ]
  },
  {
   "cell_type": "markdown",
   "metadata": {},
   "source": [
    "## 4. 可视化模块\n",
    "* __工具__ :Matplotlib/Seaborn 或交互式工具"
   ]
  },
  {
   "cell_type": "code",
   "execution_count": 24,
   "metadata": {},
   "outputs": [],
   "source": [
    "import matplotlib.pyplot as plt\n",
    "from IPython.display import display, clear_output  # Jupyter支持\n",
    "\n",
    "def realtime_monitor(symbol, license):\n",
    "    # **麦蕊实时行情接入示例**\n",
    "    url = f\"http://api.mairui.club/hsrl/ssjy/{symbol}/{license}\"\n",
    "    while True:\n",
    "        data = requests.get(url).json()\n",
    "        clear_output(wait=True)\n",
    "        plt.figure(figsize=(8,4))\n",
    "        plt.title(f\"{symbol} 实时行情 | 最新价: {data['last_price']}\")\n",
    "        plt.bar(['开盘','最高','最低','最新'], \n",
    "                [data['open'], data['high'], data['low'], data['last_price']])\n",
    "        plt.show()\n",
    "        time.sleep(10)  # 每10秒刷新"
   ]
  },
  {
   "cell_type": "markdown",
   "metadata": {},
   "source": [
    "## 5. 风险管理与绩效评估"
   ]
  },
  {
   "cell_type": "code",
   "execution_count": 16,
   "metadata": {},
   "outputs": [],
   "source": [
    "import numpy as np\n",
    "\n",
    "def calculate_performance(returns):\n",
    "    annual_return = np.mean(returns) * 252\n",
    "    volatility = np.std(returns) * np.sqrt(252)\n",
    "    sharpe_ratio = annual_return / volatility\n",
    "    max_drawdown = (np.maximum.accumulate(returns) - returns).max()\n",
    "    return {\n",
    "        \"年化收益率\": annual_return,\n",
    "        \"夏普比率\": sharpe_ratio,\n",
    "        \"最大回撤\": max_drawdown\n",
    "    }"
   ]
  },
  {
   "cell_type": "code",
   "execution_count": 25,
   "metadata": {},
   "outputs": [],
   "source": [
    "def validate_data(df):\n",
    "    # **检查麦蕊数据完整性**\n",
    "    required_columns = ['open', 'high', 'low', 'close', 'vol']\n",
    "    missing = set(required_columns) - set(df.columns)\n",
    "    if missing:\n",
    "        raise ValueError(f\"数据缺失关键字段: {missing}\")\n",
    "    \n",
    "    # **检查异常值（如涨跌幅超过20%）**\n",
    "    df['pct_chg'] = df['close'].pct_change()\n",
    "    abnormal = df[abs(df['pct_chg']) > 0.2]\n",
    "    if not abnormal.empty:\n",
    "        print(f\"警告：发现{len(abnormal)}条异常波动数据\")"
   ]
  },
  {
   "cell_type": "markdown",
   "metadata": {},
   "source": [
    "## 运行"
   ]
  },
  {
   "cell_type": "code",
   "execution_count": 26,
   "metadata": {},
   "outputs": [
    {
     "ename": "JSONDecodeError",
     "evalue": "Expecting value: line 1 column 1 (char 0)",
     "output_type": "error",
     "traceback": [
      "\u001b[31m---------------------------------------------------------------------------\u001b[39m",
      "\u001b[31mJSONDecodeError\u001b[39m                           Traceback (most recent call last)",
      "\u001b[36mFile \u001b[39m\u001b[32mc:\\Users\\Erica\\anaconda3\\envs\\Q_trading\\Lib\\site-packages\\requests\\models.py:963\u001b[39m, in \u001b[36mResponse.json\u001b[39m\u001b[34m(self, **kwargs)\u001b[39m\n\u001b[32m    962\u001b[39m \u001b[38;5;28;01mtry\u001b[39;00m:\n\u001b[32m--> \u001b[39m\u001b[32m963\u001b[39m     \u001b[38;5;28;01mreturn\u001b[39;00m \u001b[43mcomplexjson\u001b[49m\u001b[43m.\u001b[49m\u001b[43mloads\u001b[49m\u001b[43m(\u001b[49m\u001b[38;5;28;43mself\u001b[39;49m\u001b[43m.\u001b[49m\u001b[43mcontent\u001b[49m\u001b[43m.\u001b[49m\u001b[43mdecode\u001b[49m\u001b[43m(\u001b[49m\u001b[43mencoding\u001b[49m\u001b[43m)\u001b[49m\u001b[43m,\u001b[49m\u001b[43m \u001b[49m\u001b[43m*\u001b[49m\u001b[43m*\u001b[49m\u001b[43mkwargs\u001b[49m\u001b[43m)\u001b[49m\n\u001b[32m    964\u001b[39m \u001b[38;5;28;01mexcept\u001b[39;00m \u001b[38;5;167;01mUnicodeDecodeError\u001b[39;00m:\n\u001b[32m    965\u001b[39m     \u001b[38;5;66;03m# Wrong UTF codec detected; usually because it's not UTF-8\u001b[39;00m\n\u001b[32m    966\u001b[39m     \u001b[38;5;66;03m# but some other 8-bit codec.  This is an RFC violation,\u001b[39;00m\n\u001b[32m    967\u001b[39m     \u001b[38;5;66;03m# and the server didn't bother to tell us what codec *was*\u001b[39;00m\n\u001b[32m    968\u001b[39m     \u001b[38;5;66;03m# used.\u001b[39;00m\n",
      "\u001b[36mFile \u001b[39m\u001b[32mc:\\Users\\Erica\\anaconda3\\envs\\Q_trading\\Lib\\site-packages\\simplejson\\__init__.py:514\u001b[39m, in \u001b[36mloads\u001b[39m\u001b[34m(s, encoding, cls, object_hook, parse_float, parse_int, parse_constant, object_pairs_hook, use_decimal, allow_nan, **kw)\u001b[39m\n\u001b[32m    510\u001b[39m \u001b[38;5;28;01mif\u001b[39;00m (\u001b[38;5;28mcls\u001b[39m \u001b[38;5;129;01mis\u001b[39;00m \u001b[38;5;28;01mNone\u001b[39;00m \u001b[38;5;129;01mand\u001b[39;00m encoding \u001b[38;5;129;01mis\u001b[39;00m \u001b[38;5;28;01mNone\u001b[39;00m \u001b[38;5;129;01mand\u001b[39;00m object_hook \u001b[38;5;129;01mis\u001b[39;00m \u001b[38;5;28;01mNone\u001b[39;00m \u001b[38;5;129;01mand\u001b[39;00m\n\u001b[32m    511\u001b[39m         parse_int \u001b[38;5;129;01mis\u001b[39;00m \u001b[38;5;28;01mNone\u001b[39;00m \u001b[38;5;129;01mand\u001b[39;00m parse_float \u001b[38;5;129;01mis\u001b[39;00m \u001b[38;5;28;01mNone\u001b[39;00m \u001b[38;5;129;01mand\u001b[39;00m\n\u001b[32m    512\u001b[39m         parse_constant \u001b[38;5;129;01mis\u001b[39;00m \u001b[38;5;28;01mNone\u001b[39;00m \u001b[38;5;129;01mand\u001b[39;00m object_pairs_hook \u001b[38;5;129;01mis\u001b[39;00m \u001b[38;5;28;01mNone\u001b[39;00m\n\u001b[32m    513\u001b[39m         \u001b[38;5;129;01mand\u001b[39;00m \u001b[38;5;129;01mnot\u001b[39;00m use_decimal \u001b[38;5;129;01mand\u001b[39;00m \u001b[38;5;129;01mnot\u001b[39;00m allow_nan \u001b[38;5;129;01mand\u001b[39;00m \u001b[38;5;129;01mnot\u001b[39;00m kw):\n\u001b[32m--> \u001b[39m\u001b[32m514\u001b[39m     \u001b[38;5;28;01mreturn\u001b[39;00m \u001b[43m_default_decoder\u001b[49m\u001b[43m.\u001b[49m\u001b[43mdecode\u001b[49m\u001b[43m(\u001b[49m\u001b[43ms\u001b[49m\u001b[43m)\u001b[49m\n\u001b[32m    515\u001b[39m \u001b[38;5;28;01mif\u001b[39;00m \u001b[38;5;28mcls\u001b[39m \u001b[38;5;129;01mis\u001b[39;00m \u001b[38;5;28;01mNone\u001b[39;00m:\n",
      "\u001b[36mFile \u001b[39m\u001b[32mc:\\Users\\Erica\\anaconda3\\envs\\Q_trading\\Lib\\site-packages\\simplejson\\decoder.py:386\u001b[39m, in \u001b[36mJSONDecoder.decode\u001b[39m\u001b[34m(self, s, _w, _PY3)\u001b[39m\n\u001b[32m    385\u001b[39m     s = \u001b[38;5;28mstr\u001b[39m(s, \u001b[38;5;28mself\u001b[39m.encoding)\n\u001b[32m--> \u001b[39m\u001b[32m386\u001b[39m obj, end = \u001b[38;5;28;43mself\u001b[39;49m\u001b[43m.\u001b[49m\u001b[43mraw_decode\u001b[49m\u001b[43m(\u001b[49m\u001b[43ms\u001b[49m\u001b[43m)\u001b[49m\n\u001b[32m    387\u001b[39m end = _w(s, end).end()\n",
      "\u001b[36mFile \u001b[39m\u001b[32mc:\\Users\\Erica\\anaconda3\\envs\\Q_trading\\Lib\\site-packages\\simplejson\\decoder.py:416\u001b[39m, in \u001b[36mJSONDecoder.raw_decode\u001b[39m\u001b[34m(self, s, idx, _w, _PY3)\u001b[39m\n\u001b[32m    415\u001b[39m         idx += \u001b[32m3\u001b[39m\n\u001b[32m--> \u001b[39m\u001b[32m416\u001b[39m \u001b[38;5;28;01mreturn\u001b[39;00m \u001b[38;5;28;43mself\u001b[39;49m\u001b[43m.\u001b[49m\u001b[43mscan_once\u001b[49m\u001b[43m(\u001b[49m\u001b[43ms\u001b[49m\u001b[43m,\u001b[49m\u001b[43m \u001b[49m\u001b[43midx\u001b[49m\u001b[43m=\u001b[49m\u001b[43m_w\u001b[49m\u001b[43m(\u001b[49m\u001b[43ms\u001b[49m\u001b[43m,\u001b[49m\u001b[43m \u001b[49m\u001b[43midx\u001b[49m\u001b[43m)\u001b[49m\u001b[43m.\u001b[49m\u001b[43mend\u001b[49m\u001b[43m(\u001b[49m\u001b[43m)\u001b[49m\u001b[43m)\u001b[49m\n",
      "\u001b[31mJSONDecodeError\u001b[39m: Expecting value: line 1 column 1 (char 0)",
      "\nDuring handling of the above exception, another exception occurred:\n",
      "\u001b[31mJSONDecodeError\u001b[39m                           Traceback (most recent call last)",
      "\u001b[36mCell\u001b[39m\u001b[36m \u001b[39m\u001b[32mIn[26]\u001b[39m\u001b[32m, line 4\u001b[39m\n\u001b[32m      1\u001b[39m \u001b[38;5;28;01mif\u001b[39;00m \u001b[34m__name__\u001b[39m == \u001b[33m\"\u001b[39m\u001b[33m__main__\u001b[39m\u001b[33m\"\u001b[39m:\n\u001b[32m      2\u001b[39m     \u001b[38;5;66;03m# **初始化使用麦蕊数据**\u001b[39;00m\n\u001b[32m      3\u001b[39m     dm = DataManager()\n\u001b[32m----> \u001b[39m\u001b[32m4\u001b[39m     data = \u001b[43mdm\u001b[49m\u001b[43m.\u001b[49m\u001b[43mload_data\u001b[49m\u001b[43m(\u001b[49m\u001b[33;43m\"\u001b[39;49m\u001b[33;43m000001\u001b[39;49m\u001b[33;43m\"\u001b[39;49m\u001b[43m,\u001b[49m\u001b[43m \u001b[49m\u001b[33;43m\"\u001b[39;49m\u001b[33;43m20230101\u001b[39;49m\u001b[33;43m\"\u001b[39;49m\u001b[43m,\u001b[49m\u001b[43m \u001b[49m\u001b[33;43m\"\u001b[39;49m\u001b[33;43m20231231\u001b[39;49m\u001b[33;43m\"\u001b[39;49m\u001b[43m)\u001b[49m  \u001b[38;5;66;03m# 注意符号格式差异\u001b[39;00m\n\u001b[32m      6\u001b[39m     \u001b[38;5;66;03m# 后续流程保持不变\u001b[39;00m\n\u001b[32m      7\u001b[39m     strategy = Strategy()\n",
      "\u001b[36mCell\u001b[39m\u001b[36m \u001b[39m\u001b[32mIn[21]\u001b[39m\u001b[32m, line 20\u001b[39m, in \u001b[36mDataManager.load_data\u001b[39m\u001b[34m(self, symbol, start_date, end_date)\u001b[39m\n\u001b[32m     18\u001b[39m \u001b[38;5;66;03m# **请求并转换数据格式**\u001b[39;00m\n\u001b[32m     19\u001b[39m response = requests.get(url, params=params)\n\u001b[32m---> \u001b[39m\u001b[32m20\u001b[39m raw_data = \u001b[43mresponse\u001b[49m\u001b[43m.\u001b[49m\u001b[43mjson\u001b[49m\u001b[43m(\u001b[49m\u001b[43m)\u001b[49m[\u001b[33m'\u001b[39m\u001b[33mdata\u001b[39m\u001b[33m'\u001b[39m]\n\u001b[32m     22\u001b[39m \u001b[38;5;66;03m# **字段映射与类型转换**\u001b[39;00m\n\u001b[32m     23\u001b[39m df = pd.DataFrame(raw_data)\n",
      "\u001b[36mFile \u001b[39m\u001b[32mc:\\Users\\Erica\\anaconda3\\envs\\Q_trading\\Lib\\site-packages\\requests\\models.py:971\u001b[39m, in \u001b[36mResponse.json\u001b[39m\u001b[34m(self, **kwargs)\u001b[39m\n\u001b[32m    969\u001b[39m             \u001b[38;5;28;01mpass\u001b[39;00m\n\u001b[32m    970\u001b[39m         \u001b[38;5;28;01mexcept\u001b[39;00m JSONDecodeError \u001b[38;5;28;01mas\u001b[39;00m e:\n\u001b[32m--> \u001b[39m\u001b[32m971\u001b[39m             \u001b[38;5;28;01mraise\u001b[39;00m RequestsJSONDecodeError(e.msg, e.doc, e.pos)\n\u001b[32m    973\u001b[39m \u001b[38;5;28;01mtry\u001b[39;00m:\n\u001b[32m    974\u001b[39m     \u001b[38;5;28;01mreturn\u001b[39;00m complexjson.loads(\u001b[38;5;28mself\u001b[39m.text, **kwargs)\n",
      "\u001b[31mJSONDecodeError\u001b[39m: Expecting value: line 1 column 1 (char 0)"
     ]
    }
   ],
   "source": [
    "if __name__ == \"__main__\":\n",
    "    # **初始化使用麦蕊数据**\n",
    "    dm = DataManager()\n",
    "    data = dm.load_data(\"000001\", \"20230101\", \"20231231\")  # 注意符号格式差异\n",
    "    \n",
    "    # 后续流程保持不变\n",
    "    strategy = Strategy()\n",
    "    backtester = Backtester()\n",
    "    returns = backtester.run_backtest(data, strategy)\n",
    "    \n",
    "    # **可视化增加实时监控（可选）**\n",
    "    # 在Jupyter中运行：实时监控\n",
    "    # realtime_monitor(\"000001\", dm.license)  \n",
    "    \n",
    "    performance = calculate_performance(returns)\n",
    "    visualize_results(returns, data['close']/data['close'].iloc[0]-1)"
   ]
  }
 ],
 "metadata": {
  "kernelspec": {
   "display_name": "base",
   "language": "python",
   "name": "python3"
  },
  "language_info": {
   "codemirror_mode": {
    "name": "ipython",
    "version": 3
   },
   "file_extension": ".py",
   "mimetype": "text/x-python",
   "name": "python",
   "nbconvert_exporter": "python",
   "pygments_lexer": "ipython3",
   "version": "3.11.10"
  }
 },
 "nbformat": 4,
 "nbformat_minor": 2
}
