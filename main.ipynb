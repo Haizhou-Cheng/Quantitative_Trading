{
 "cells": [
  {
   "cell_type": "markdown",
   "metadata": {},
   "source": [
    "## 导入库"
   ]
  },
  {
   "cell_type": "code",
   "execution_count": 6,
   "metadata": {},
   "outputs": [],
   "source": [
    "import json\n",
    "import requests\n",
    "import time\n",
    "import pandas as pd\n",
    "import matplotlib.pyplot as plt\n",
    "from matplotlib import rcParams\n",
    "from datetime import datetime, timedelta\n",
    "from matplotlib.dates import DateFormatter, HourLocator"
   ]
  },
  {
   "cell_type": "markdown",
   "metadata": {},
   "source": [
    "## 1. 数据管理模块"
   ]
  },
  {
   "cell_type": "code",
   "execution_count": 30,
   "metadata": {},
   "outputs": [
    {
     "ename": "ModuleNotFoundError",
     "evalue": "No module named 'Ashare'",
     "output_type": "error",
     "traceback": [
      "\u001b[1;31m---------------------------------------------------------------------------\u001b[0m",
      "\u001b[1;31mModuleNotFoundError\u001b[0m                       Traceback (most recent call last)",
      "Cell \u001b[1;32mIn[30], line 2\u001b[0m\n\u001b[0;32m      1\u001b[0m \u001b[38;5;66;03m# 安装：pip install Ashare\u001b[39;00m\n\u001b[1;32m----> 2\u001b[0m \u001b[38;5;28;01mfrom\u001b[39;00m\u001b[38;5;250m \u001b[39m\u001b[38;5;21;01mAshare\u001b[39;00m\u001b[38;5;250m \u001b[39m\u001b[38;5;28;01mimport\u001b[39;00m get_price\n\u001b[0;32m      4\u001b[0m \u001b[38;5;28;01mclass\u001b[39;00m\u001b[38;5;250m \u001b[39m\u001b[38;5;21;01mDataManager\u001b[39;00m:\n\u001b[0;32m      5\u001b[0m     \u001b[38;5;28;01mdef\u001b[39;00m\u001b[38;5;250m \u001b[39m\u001b[38;5;21mload_data\u001b[39m(\u001b[38;5;28mself\u001b[39m, symbol, start_date, end_date):\n\u001b[0;32m      6\u001b[0m         \u001b[38;5;66;03m# 自动兼容多种股票代码格式（如sh600519/sz000001）\u001b[39;00m\n",
      "\u001b[1;31mModuleNotFoundError\u001b[0m: No module named 'Ashare'"
     ]
    }
   ],
   "source": [
    "# 安装：pip install Ashare\n",
    "from Ashare import get_price\n",
    "\n",
    "class DataManager:\n",
    "    def load_data(self, symbol, start_date, end_date):\n",
    "        # 自动兼容多种股票代码格式（如sh600519/sz000001）\n",
    "        df = get_price(symbol, \n",
    "                      frequency='1d', \n",
    "                      count=1000,  # 自动计算所需天数\n",
    "                      end_date=end_date)\n",
    "        df = df.rename(columns={'date':'trade_date'})\n",
    "        df.to_csv(f\"{self.data_path}{symbol}.csv\")\n",
    "        return df"
   ]
  },
  {
   "cell_type": "code",
   "execution_count": null,
   "metadata": {},
   "outputs": [],
   "source": [
    "# 修改 DataManager 初始化（需先到 https://qos.hk 注册获取证书）\n",
    "def __init__(self):\n",
    "    self.license = \"b3053f8ec33f11a965f60555a7b9bc59\"  # 替换为申请的证书\n",
    "\n",
    "def load_data(self, symbol, start_date, end_date):\n",
    "    url = f\"http://api.mairui.club/hszbl/fsjy/{symbol}/dn/{self.license}\"\n",
    "    params = {\"start\": start_date, \"end\": end_date}\n",
    "    # 其他处理逻辑保持不变（需验证字段映射）"
   ]
  },
  {
   "cell_type": "markdown",
   "metadata": {},
   "source": [
    "### 配置文字，参数，初始化数据"
   ]
  },
  {
   "cell_type": "code",
   "execution_count": 12,
   "metadata": {},
   "outputs": [],
   "source": [
    "# 设置字体为支持中文的字体\n",
    "rcParams['font.sans-serif'] = ['Microsoft YaHei']  # 或者使用其他支持中文的字体，如 SimHei\n",
    "rcParams['axes.unicode_minus'] = False\n",
    "\n",
    "# 配置参数\n",
    "name_map = {\n",
    "    #\"HK:700\": \"腾讯控股\",\n",
    "    #\"SH:600519\": \"贵州茅台\",\n",
    "    \"SZ:002594\": \"比亚迪\"\n",
    "}\n",
    "\n",
    "api_url = \"https://api.qos.hk/snapshot?key=b3053f8ec33f11a965f60555a7b9bc59\"\n",
    "update_interval = 30  # 秒\n",
    "\n",
    "# 初始化数据存储\n",
    "history_data = {\n",
    "    code: {'timestamps': [], 'prices': [], 'volumes': [], 'amounts': []}\n",
    "    for code in name_map\n",
    "}"
   ]
  },
  {
   "cell_type": "markdown",
   "metadata": {},
   "source": [
    "### 获取数据"
   ]
  },
  {
   "cell_type": "code",
   "execution_count": 14,
   "metadata": {},
   "outputs": [],
   "source": [
    "def fetch_data():\n",
    "    \"\"\"获取最新行情数据\"\"\"\n",
    "    payload = json.dumps({\"codes\": list(name_map.keys())})\n",
    "    headers = {'Content-Type': 'application/json'}\n",
    "    \n",
    "    try:\n",
    "        response = requests.post(api_url, headers=headers, data=payload)\n",
    "        return response.json()[\"data\"]\n",
    "    except Exception as e:\n",
    "        print(f\"数据获取失败：{str(e)}\")\n",
    "        return None"
   ]
  },
  {
   "cell_type": "markdown",
   "metadata": {},
   "source": [
    "## 2. 策略开发模块\n",
    "* 信号生成器：技术指标（如均线突破、RSI）\n",
    "* 风险管理：止损/止盈、仓位控制\n",
    "* 交易执行：订单类型（市价单、限价单）"
   ]
  },
  {
   "cell_type": "code",
   "execution_count": 15,
   "metadata": {},
   "outputs": [],
   "source": [
    "class Strategy:\n",
    "    def __init__(self, short_window=5, long_window=20):\n",
    "        self.short_window = short_window\n",
    "        self.long_window = long_window\n",
    "        self.position = 0  # 持仓状态\n",
    "    \n",
    "    def generate_signal(self, data):\n",
    "        data['short_ma'] = data['prices'].rolling(self.short_window).mean()\n",
    "        data['long_ma'] = data['prices'].rolling(self.long_window).mean()\n",
    "        \n",
    "        # 金叉买入，死叉卖出\n",
    "        if data['short_ma'].iloc[-1] > data['long_ma'].iloc[-1]:\n",
    "            return 'BUY'\n",
    "        elif data['short_ma'].iloc[-1] < data['long_ma'].iloc[-1]:\n",
    "            return 'SELL'\n",
    "        else:\n",
    "            return 'HOLD'"
   ]
  },
  {
   "cell_type": "markdown",
   "metadata": {},
   "source": [
    "## 3. 回测引擎模块\n",
    "* 功能：模拟历史交易并评估策略表现\n",
    "* __核心指标__：年化收益率、夏普比率、最大回撤、胜率"
   ]
  },
  {
   "cell_type": "code",
   "execution_count": 3,
   "metadata": {},
   "outputs": [],
   "source": [
    "class Backtester:\n",
    "    def __init__(self, initial_capital=100000):\n",
    "        self.initial_capital = initial_capital\n",
    "        self.portfolio = {'cash': initial_capital, 'shares': 0}\n",
    "    \n",
    "    def run_backtest(self, data, strategy):\n",
    "        returns = []\n",
    "        for i in range(len(data)):\n",
    "            signal = strategy.generate_signal(data.iloc[:i+1])\n",
    "            price = data.iloc[i]['close']\n",
    "            if signal == 'BUY' and self.portfolio['cash'] > 0:\n",
    "                self.portfolio['shares'] = self.portfolio['cash'] // price\n",
    "                self.portfolio['cash'] -= self.portfolio['shares'] * price\n",
    "            elif signal == 'SELL' and self.portfolio['shares'] > 0:\n",
    "                self.portfolio['cash'] += self.portfolio['shares'] * price\n",
    "                self.portfolio['shares'] = 0\n",
    "            # 记录每日净值\n",
    "            total_value = self.portfolio['cash'] + self.portfolio['shares'] * price\n",
    "            returns.append(total_value / self.initial_capital - 1)\n",
    "        return returns"
   ]
  },
  {
   "cell_type": "markdown",
   "metadata": {},
   "source": [
    "## 4. 可视化模块\n",
    "* __工具__ :Matplotlib/Seaborn 或交互式工具"
   ]
  },
  {
   "cell_type": "code",
   "execution_count": 16,
   "metadata": {},
   "outputs": [],
   "source": [
    "def update_chart():\n",
    "    \"\"\"更新图表\"\"\"\n",
    "    for ax in [ax1, ax2, ax3]:\n",
    "        ax.clear()\n",
    "    \n",
    "    for code in name_map:\n",
    "        timestamps = [datetime.fromtimestamp(ts) for ts in history_data[code]['timestamps']]\n",
    "        \n",
    "        # 价格走势（折线图）\n",
    "        ax1.plot(timestamps, history_data[code]['prices'], \n",
    "                marker='o', label=name_map[code])\n",
    "        \n",
    "        # 成交量（柱状图）\n",
    "        ax2.bar(timestamps, history_data[code]['volumes'],\n",
    "               width=0.02, alpha=0.5, label=name_map[code])\n",
    "        \n",
    "        # 成交额（折线图）\n",
    "        ax3.plot(timestamps, history_data[code]['amounts'],\n",
    "                linestyle='--', label=name_map[code])\n",
    "\n",
    "    # 设置坐标轴格式\n",
    "    time_format = DateFormatter(\"%H:%M\")\n",
    "    for ax in [ax1, ax2, ax3]:\n",
    "        ax.xaxis.set_major_formatter(time_format)\n",
    "        ax.xaxis.set_major_locator(HourLocator())  # 设置X轴主刻度为每小时\n",
    "        ax.grid(True)\n",
    "        ax.legend()\n",
    "\n",
    "    ax1.set_ylabel('Price (Yuan)')\n",
    "    ax2.set_ylabel('Volume (in lots)')\n",
    "    ax3.set_ylabel('Transaction Amount (in ten thousand yuan)')\n",
    "    \n",
    "    plt.tight_layout()  # 自动调整布局\n",
    "    plt.draw()  # 更新绘图\n",
    "    plt.pause(0.1)"
   ]
  },
  {
   "cell_type": "markdown",
   "metadata": {},
   "source": [
    "## 5. 风险管理与绩效评估"
   ]
  },
  {
   "cell_type": "code",
   "execution_count": 16,
   "metadata": {},
   "outputs": [],
   "source": [
    "import numpy as np\n",
    "\n",
    "def calculate_performance(returns):\n",
    "    annual_return = np.mean(returns) * 252\n",
    "    volatility = np.std(returns) * np.sqrt(252)\n",
    "    sharpe_ratio = annual_return / volatility\n",
    "    max_drawdown = (np.maximum.accumulate(returns) - returns).max()\n",
    "    return {\n",
    "        \"年化收益率\": annual_return,\n",
    "        \"夏普比率\": sharpe_ratio,\n",
    "        \"最大回撤\": max_drawdown\n",
    "    }"
   ]
  },
  {
   "cell_type": "code",
   "execution_count": 25,
   "metadata": {},
   "outputs": [],
   "source": [
    "def validate_data(df):\n",
    "    # **检查麦蕊数据完整性**\n",
    "    required_columns = ['open', 'high', 'low', 'close', 'vol']\n",
    "    missing = set(required_columns) - set(df.columns)\n",
    "    if missing:\n",
    "        raise ValueError(f\"数据缺失关键字段: {missing}\")\n",
    "    \n",
    "    # **检查异常值（如涨跌幅超过20%）**\n",
    "    df['pct_chg'] = df['close'].pct_change()\n",
    "    abnormal = df[abs(df['pct_chg']) > 0.2]\n",
    "    if not abnormal.empty:\n",
    "        print(f\"警告：发现{len(abnormal)}条异常波动数据\")"
   ]
  },
  {
   "cell_type": "markdown",
   "metadata": {},
   "source": [
    "## 运行"
   ]
  },
  {
   "cell_type": "code",
   "execution_count": null,
   "metadata": {},
   "outputs": [],
   "source": [
    "def main():\n",
    "    \"\"\"主运行循环\"\"\"\n",
    "    strategy = Strategy()  # 初始化策略\n",
    "\n",
    "    while True:\n",
    "        start_time = time.time()\n",
    "        \n",
    "        # 获取数据\n",
    "        data = fetch_data()\n",
    "        if data:\n",
    "            for stock in data:\n",
    "                code = stock[\"c\"]\n",
    "                if code in history_data:\n",
    "                    # 记录当前时间戳\n",
    "                    ts = datetime.now().timestamp()\n",
    "                    try:\n",
    "                        history_data[code]['timestamps'].append(ts)\n",
    "                        history_data[code]['prices'].append(stock[\"lp\"])\n",
    "                        history_data[code]['volumes'].append(int(stock[\"v\"]) / 100)  # 转换为手\n",
    "                        history_data[code]['amounts'].append(float(stock[\"t\"]) / 10000)  # 转换为万元\n",
    "                    except KeyError as e:\n",
    "                        print(f\"数据解析失败：{stock}，错误：{e}\")\n",
    "\n",
    "                    # 转换数据为DataFrame\n",
    "                    data_frame = pd.DataFrame(history_data[code])\n",
    "\n",
    "                    # 生成交易信号\n",
    "                    signal = strategy.generate_signal(data_frame)\n",
    "                    print(f\"股票 {name_map[code]} 当前信号：{signal}\")\n",
    "            update_chart()\n",
    "        \n",
    "        # 等待下一个周期\n",
    "        elapsed = time.time() - start_time\n",
    "        if elapsed < update_interval:\n",
    "            time.sleep(update_interval - elapsed)"
   ]
  },
  {
   "cell_type": "code",
   "execution_count": null,
   "metadata": {},
   "outputs": [
    {
     "data": {
      "text/plain": [
       "<Figure size 1200x800 with 0 Axes>"
      ]
     },
     "metadata": {},
     "output_type": "display_data"
    },
    {
     "data": {
      "text/plain": [
       "<Figure size 640x480 with 0 Axes>"
      ]
     },
     "metadata": {},
     "output_type": "display_data"
    }
   ],
   "source": [
    "# 创建画布\n",
    "plt.ion()  # 启用交互模式\n",
    "fig, (ax1, ax2, ax3) = plt.subplots(3, 1, figsize=(12, 8))\n",
    "fig.suptitle('Real-time Stock Market Monitoring')\n",
    "\n",
    "if __name__ == \"__main__\":\n",
    "    try:\n",
    "        main()\n",
    "    except KeyboardInterrupt:\n",
    "        plt.close()\n",
    "        print(\"监控已停止\")"
   ]
  }
 ],
 "metadata": {
  "kernelspec": {
   "display_name": "Python 3",
   "language": "python",
   "name": "python3"
  },
  "language_info": {
   "codemirror_mode": {
    "name": "ipython",
    "version": 3
   },
   "file_extension": ".py",
   "mimetype": "text/x-python",
   "name": "python",
   "nbconvert_exporter": "python",
   "pygments_lexer": "ipython3",
   "version": "3.10.11"
  }
 },
 "nbformat": 4,
 "nbformat_minor": 2
}
